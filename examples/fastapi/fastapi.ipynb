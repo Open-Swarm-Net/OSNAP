{
 "cells": [
  {
   "cell_type": "code",
   "execution_count": 1,
   "metadata": {},
   "outputs": [],
   "source": [
    "%reload_ext autoreload\n",
    "%autoreload 2"
   ]
  },
  {
   "cell_type": "code",
   "execution_count": 8,
   "metadata": {},
   "outputs": [
    {
     "name": "stdout",
     "output_type": "stream",
     "text": [
      "Response from http://localhost:8001/join: {'accepted': True, 'swarm_manager_id': 'bob', 'message': 'Successfully joined swarm manager bob'}\n",
      "Successfully joined swarm manager bob\n"
     ]
    }
   ],
   "source": [
    "from alice import AliceSwarmManager\n",
    "from bob import BobSwarmManager\n",
    "\n",
    "alice = AliceSwarmManager()\n",
    "bob = BobSwarmManager()\n",
    "\n",
    "alice.join_swarm(bob.swarm_manager_url)"
   ]
  },
  {
   "cell_type": "code",
   "execution_count": null,
   "metadata": {},
   "outputs": [],
   "source": []
  }
 ],
 "metadata": {
  "kernelspec": {
   "display_name": "osnap-client-Q2PpR9Ii-py3.11",
   "language": "python",
   "name": "python3"
  },
  "language_info": {
   "codemirror_mode": {
    "name": "ipython",
    "version": 3
   },
   "file_extension": ".py",
   "mimetype": "text/x-python",
   "name": "python",
   "nbconvert_exporter": "python",
   "pygments_lexer": "ipython3",
   "version": "3.11.3"
  },
  "orig_nbformat": 4
 },
 "nbformat": 4,
 "nbformat_minor": 2
}
