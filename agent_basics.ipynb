{
 "cells": [
  {
   "attachments": {},
   "cell_type": "markdown",
   "metadata": {},
   "source": [
    "# Agent Basics\n",
    "\n",
    "This notebooks walks you through creating two agents that work together to schedule coffee.\n",
    "\n",
    "First we create two agents: "
   ]
  },
  {
   "cell_type": "code",
   "execution_count": 2,
   "metadata": {},
   "outputs": [],
   "source": [
    "# uncomment and run if running from /docs/agents\n",
    "\n",
    "# from os.path import dirname\n",
    "# file_path = dirname(dirname(os.path.abspath('')))\n",
    "# sys.path.append(file_path)\n",
    "# # sys.path.append(str(file_path.parent.parent.parent))\n",
    "\n",
    "# print(sys.path)"
   ]
  },
  {
   "cell_type": "code",
   "execution_count": 3,
   "metadata": {},
   "outputs": [
    {
     "data": {
      "text/plain": [
       "AgentInfo(name='alice', description=\"Alice's personal assistant\", id=1234, tools=['calendar', 'email', 'location'], url=None)"
      ]
     },
     "execution_count": 3,
     "metadata": {},
     "output_type": "execute_result"
    }
   ],
   "source": [
    "from osnap_client.agents import (\n",
    "  OSNAPBaseAgent, \n",
    "  AgentInfo, \n",
    "  OSNAPTask, \n",
    "  OSNAPAgentRunResponse,\n",
    "  OSNAPAgentTaskResult\n",
    ")\n",
    "\n",
    "def alice_run():\n",
    "  pass\n",
    "\n",
    "def alice_start(): \n",
    "  pass\n",
    "\n",
    "def alice_listen(): \n",
    "  pass\n",
    "\n",
    "def alice_complete():\n",
    "  pass\n",
    "\n",
    "def alice_terminate():\n",
    "  pass\n",
    "\n",
    "class AliceAgent(OSNAPBaseAgent):\n",
    "  name=\"alice\"\n",
    "  description=\"Alice's personal assistant\"\n",
    "  tools=[\"calendar\", \"email\", \"location\"]\n",
    "  id=\"1234\"\n",
    "\n",
    "  def run(self, task: OSNAPTask):\n",
    "    return alice_run(self, task)\n",
    "\n",
    "  def start(self, objective: str, agent_url=None):\n",
    "    return alice_start(self, objective, agent_url)\n",
    "\n",
    "  def listen(self, result: OSNAPAgentTaskResult):\n",
    "    return alice_listen(result)\n",
    "  \n",
    "  def complete(self):\n",
    "    return alice_complete()\n",
    "  \n",
    "  def terminate(self):\n",
    "    return alice_terminate()\n",
    "  \n",
    "alice = AliceAgent()\n",
    "\n",
    "alice.info()"
   ]
  },
  {
   "cell_type": "code",
   "execution_count": 25,
   "metadata": {},
   "outputs": [
    {
     "data": {
      "text/plain": [
       "AgentInfo(name='bob', description=\"Bobs's personal assistant\", id=1234, tools=['calendar', 'email', 'location'], url=None)"
      ]
     },
     "execution_count": 25,
     "metadata": {},
     "output_type": "execute_result"
    }
   ],
   "source": [
    "# define the methods so we can test them\n",
    "def bob_run():\n",
    "  pass\n",
    "\n",
    "def bob_start():\n",
    "  pass\n",
    "\n",
    "def bob_listen():\n",
    "  pass\n",
    "\n",
    "def bob_complete():\n",
    "  pass\n",
    "\n",
    "def bob_terminate():\n",
    "  pass\n",
    "\n",
    "class BobAgent(OSNAPBaseAgent):\n",
    "  name=\"bob\"\n",
    "  description=\"Bobs's personal assistant\"\n",
    "  tools=[\"calendar\", \"email\", \"location\"]\n",
    "  id=\"1234\"\n",
    "\n",
    "  def run(self, task: OSNAPTask) -> OSNAPAgentRunResponse:\n",
    "    return bob_run(task)\n",
    "\n",
    "  def start(self, objective: str, agent_url=None):\n",
    "    return bob_start(objective, agent_url)\n",
    "\n",
    "  def listen(self, result: OSNAPAgentTaskResult):\n",
    "    return bob_listen(result)\n",
    "  \n",
    "  def complete(self):\n",
    "    return bob_complete()\n",
    "  \n",
    "  def terminate(self):\n",
    "    return bob_terminate()\n",
    "  \n",
    "bob = BobAgent()\n",
    "\n",
    "bob.info()"
   ]
  },
  {
   "attachments": {},
   "cell_type": "markdown",
   "metadata": {},
   "source": [
    "In your application you will define the required methods when you create an object, but for the purposes of this tutorial we will define them one at a time as we go. Like the following example:\n",
    "\n",
    "```python \n",
    "def alice_run(task: OSNAPTask):\n",
    "  print(f\"Alice is running task NOW!! {task}\")\n",
    "  \n",
    "alice.run(\"something\")\n",
    "```   \n",
    "\n",
    "First let's say that Alice wants her agent to work with Bob's agent to schedule coffee with him. \n",
    "We initialize this request by calling the `start` method on Alice's agent. In our case, we are going to hardcode some logic into Alice's agent to make it easier to understand. \n"
   ]
  },
  {
   "cell_type": "code",
   "execution_count": 8,
   "metadata": {},
   "outputs": [],
   "source": [
    "import openai\n",
    "import getpass\n",
    "openai.api_key = getpass.getpass()\n",
    "\n",
    "bob_info = bob.info()"
   ]
  },
  {
   "cell_type": "code",
   "execution_count": 9,
   "metadata": {},
   "outputs": [],
   "source": [
    "def alice_start(self, objective, agent_url=None):\n",
    "    prompt = f\"\"\"\n",
    "    You are {self.description}. You have access to the following tools: {self.tools}.\n",
    "\n",
    "    Alice wants to {objective}. Bob's agent is {bob_info.description}. Bob's agent has access to the following tools: {bob_info.tools}.\n",
    "\n",
    "    What are the tasks we need to complete {objective}?\n",
    "    \"\"\"\n",
    "\n",
    "    response = openai.Completion.create(\n",
    "      engine=\"text-davinci-003\",\n",
    "      prompt=prompt,\n",
    "      temperature=0.5,\n",
    "      max_tokens=200\n",
    "    )\n",
    "\n",
    "    return response"
   ]
  },
  {
   "cell_type": "code",
   "execution_count": 10,
   "metadata": {},
   "outputs": [],
   "source": [
    "response = alice.start(objective=\"Schedule coffee with Bob\")"
   ]
  },
  {
   "cell_type": "code",
   "execution_count": 11,
   "metadata": {},
   "outputs": [],
   "source": [
    "task_list = response.choices[0].text.split(\"\\n\")"
   ]
  },
  {
   "cell_type": "code",
   "execution_count": 12,
   "metadata": {},
   "outputs": [
    {
     "data": {
      "text/plain": [
       "['',\n",
       " '1. Identify a date and time for the meeting. ',\n",
       " \"2. Create an event in Alice's calendar with the agreed upon date and time. \",\n",
       " \"3. Send an email to Bob's agent to confirm the meeting. \",\n",
       " '4. Determine a location for the meeting. ',\n",
       " '5. Update the calendar event with the location. ',\n",
       " \"6. Send an email to Bob's agent to confirm the location.\"]"
      ]
     },
     "execution_count": 12,
     "metadata": {},
     "output_type": "execute_result"
    }
   ],
   "source": [
    "task_list"
   ]
  },
  {
   "attachments": {},
   "cell_type": "markdown",
   "metadata": {},
   "source": [
    "The protocol isn't opinionated about WHAT your agent does. In this case we are just picking a hardcoded external agent, and then using it's description and tools directly in the prompt. This allows every agent to define as much logic as they want. The purpose of the protocol is to make them interoperable. \n",
    "\n",
    "Now that we have a nice list of tasks, we can start asking Bob's agent for help"
   ]
  },
  {
   "cell_type": "code",
   "execution_count": 16,
   "metadata": {},
   "outputs": [],
   "source": [
    "prompt = f\"\"\"\n",
    "You are {alice.description}. You have access to the following tools: {alice.tools}.\n",
    "Alice wants to Schedule coffee with Bob. Bob's agent is {bob_info.description}. Bob's agent has access to the following tools: {bob_info.tools}.\n",
    "\n",
    "The first task is to {task_list[1]}.\n",
    "\n",
    "We're going to make a simple request to Bob's agent to help. What is the request?\n",
    "Format your request as a simple task for Bob's agent to complete. \n",
    "You can also specify a tool to use, if you want to be specific.\n",
    "\"\"\"\n",
    "response = openai.Completion.create(\n",
    "  engine=\"text-davinci-003\",\n",
    "  prompt=prompt,\n",
    "  temperature=0.5,\n",
    "  max_tokens=200\n",
    ")"
   ]
  },
  {
   "cell_type": "code",
   "execution_count": 17,
   "metadata": {},
   "outputs": [],
   "source": [
    "task_map = {}\n",
    "task_map[response.id] = response.choices[0].text"
   ]
  },
  {
   "attachments": {},
   "cell_type": "markdown",
   "metadata": {},
   "source": [
    "Now that we have a task ready for Bob's agent, we're going to send it to him. \n",
    "We give it an id here so that both agents can keep track of it.\n",
    "\n",
    "Let's turn this into an OSNAPTaskRequest:"
   ]
  },
  {
   "cell_type": "code",
   "execution_count": 35,
   "metadata": {},
   "outputs": [],
   "source": [
    "task1 = OSNAPTask(\n",
    "  objective=\"Schedule coffee with Bob\",\n",
    "  task_id=response.id,\n",
    "  task_name=task_map[response.id],\n",
    "  task_description=task_map[response.id],\n",
    "  task_tool=\"calendar\"\n",
    ")"
   ]
  },
  {
   "attachments": {},
   "cell_type": "markdown",
   "metadata": {},
   "source": [
    "Now we can implement the run method on Bob's agent that we just stubbed out later. \n",
    "\n",
    "run takes an OSNAPTask as an input and returns an OSNAPAgentRunResponse. \n",
    "\n",
    "Run might be a long running task, so we want to return a status that indicates to the caller if that it's working on it.\n",
    "Let's just have it return a status of \"starting\" for now."
   ]
  },
  {
   "cell_type": "code",
   "execution_count": 38,
   "metadata": {},
   "outputs": [
    {
     "name": "stdout",
     "output_type": "stream",
     "text": [
      "Incoming task from Alice:  \n",
      "The request is: Please use the calendar to suggest a date and time for Alice and Bob to meet for coffee.\n"
     ]
    }
   ],
   "source": [
    "def bob_run(task): \n",
    "    print(\"Incoming task from Alice: \", task.task_name)\n",
    "    return OSNAPAgentRunResponse(\n",
    "        status=\"starting\",\n",
    "        message=\"Sounds good, I'll get started on that.\",\n",
    "        payload={\n",
    "            \"tools\": [\"calendar\"],\n",
    "        }\n",
    "    )\n",
    "\n",
    "bob_run_response = bob.run(task1)"
   ]
  },
  {
   "cell_type": "code",
   "execution_count": null,
   "metadata": {},
   "outputs": [],
   "source": []
  }
 ],
 "metadata": {
  "kernelspec": {
   "display_name": "base",
   "language": "python",
   "name": "python3"
  },
  "language_info": {
   "codemirror_mode": {
    "name": "ipython",
    "version": 3
   },
   "file_extension": ".py",
   "mimetype": "text/x-python",
   "name": "python",
   "nbconvert_exporter": "python",
   "pygments_lexer": "ipython3",
   "version": "3.11.3"
  },
  "orig_nbformat": 4
 },
 "nbformat": 4,
 "nbformat_minor": 2
}
