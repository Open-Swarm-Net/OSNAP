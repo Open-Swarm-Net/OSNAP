{
 "cells": [
  {
   "cell_type": "code",
   "execution_count": 13,
   "metadata": {},
   "outputs": [],
   "source": [
    "%reload_ext autoreload\n",
    "%autoreload 2"
   ]
  },
  {
   "cell_type": "code",
   "execution_count": 14,
   "metadata": {},
   "outputs": [],
   "source": [
    "from osnap_client.managers import SwarmManager\n",
    "from dataclasses import asdict \n",
    "\n",
    "alice = SwarmManager(\n",
    "    id=12341,\n",
    "    name=\"alice\"\n",
    ")\n",
    "bob = SwarmManager(\n",
    "    id=12342,\n",
    "    name=\"bob\"\n",
    ")"
   ]
  },
  {
   "cell_type": "code",
   "execution_count": 15,
   "metadata": {},
   "outputs": [],
   "source": [
    "from osnap_client.registry import RedisSwarmRegistry\n",
    "\n",
    "registry = RedisSwarmRegistry(db=1, graph_name='test')"
   ]
  },
  {
   "cell_type": "code",
   "execution_count": 16,
   "metadata": {},
   "outputs": [],
   "source": [
    "for swarm in [alice, bob]:\n",
    "    registry.add_swarm_entry(swarm)\n"
   ]
  },
  {
   "cell_type": "code",
   "execution_count": 17,
   "metadata": {},
   "outputs": [],
   "source": [
    "registry.join_swarm(alice, bob)"
   ]
  },
  {
   "cell_type": "code",
   "execution_count": null,
   "metadata": {},
   "outputs": [],
   "source": [
    "from osnap_client.agents import SwarmAgent\n",
    "\n",
    "alice_agents = [\n",
    "    SwarmAgent(\n",
    "        name=\"personal assistant\", \n",
    "        description=\"does things for alice\",\n",
    "        id=\"1\", \n",
    "    ),\n",
    "    SwarmAgent(\n",
    "        name=\"another personal assistant\", \n",
    "        description=\"does things for alice\",\n",
    "        id=\"2\", \n",
    "    )\n",
    "]\n",
    "\n",
    "for agent in alice_agents:\n",
    "    registry.add_agent_entry(agent)\n",
    "    registry.join_swarm()"
   ]
  }
 ],
 "metadata": {
  "kernelspec": {
   "display_name": "osnap-client-Q2PpR9Ii-py3.11",
   "language": "python",
   "name": "python3"
  },
  "language_info": {
   "codemirror_mode": {
    "name": "ipython",
    "version": 3
   },
   "file_extension": ".py",
   "mimetype": "text/x-python",
   "name": "python",
   "nbconvert_exporter": "python",
   "pygments_lexer": "ipython3",
   "version": "3.11.3"
  },
  "orig_nbformat": 4
 },
 "nbformat": 4,
 "nbformat_minor": 2
}
