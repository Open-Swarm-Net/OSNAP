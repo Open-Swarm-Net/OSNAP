{
 "cells": [
  {
   "cell_type": "code",
   "execution_count": 3,
   "metadata": {},
   "outputs": [
    {
     "data": {
      "text/plain": [
       "True"
      ]
     },
     "execution_count": 3,
     "metadata": {},
     "output_type": "execute_result"
    }
   ],
   "source": [
    "import sys, os, time\n",
    "from dotenv import load_dotenv\n",
    "# adding the lates version of the osnap_client to the path\n",
    "from pathlib import Path\n",
    "file_path = Path(\".\").absolute()\n",
    "sys.path.append(str(file_path.parent))\n",
    "import json\n",
    "import re\n",
    "# display the image\n",
    "from PIL import Image\n",
    "from io import BytesIO\n",
    "import IPython.display\n",
    "import discord\n",
    "from osnap_client.adapters import DiscordAdapter\n",
    "from osnap_client.agents import SwarmAgentBase\n",
    "from osnap_client.protocol import AgentCommand, AgentCommandType\n",
    "from osnap_client.utils.ai_engines import DalleEngine, LanchainGoogleEngine, GPTConversEngine\n",
    "\n",
    "load_dotenv()"
   ]
  },
  {
   "cell_type": "code",
   "execution_count": 4,
   "metadata": {},
   "outputs": [],
   "source": [
    "class Test:\n",
    "    def __init__(self, arg1):\n",
    "        self.arg1 = arg1\n",
    "        self.arg2 = \"arg2\"\n",
    "\n",
    "    def print(self):\n",
    "        print(json.dumps(self, default=lambda o: o.__dict__, sort_keys=True, indent=4))"
   ]
  },
  {
   "cell_type": "code",
   "execution_count": 5,
   "metadata": {},
   "outputs": [
    {
     "name": "stdout",
     "output_type": "stream",
     "text": [
      "{\n",
      "    \"arg1\": \"arg1\",\n",
      "    \"arg2\": \"arg2\"\n",
      "}\n"
     ]
    }
   ],
   "source": [
    "x = Test(\"arg1\")\n",
    "x.print()"
   ]
  },
  {
   "cell_type": "code",
   "execution_count": 18,
   "metadata": {},
   "outputs": [],
   "source": [
    "class GooglingAgent:\n",
    "    def __init__(self, name, description):\n",
    "        self.search_engine = LanchainGoogleEngine(\"gpt-3.5-turbo\", 0.5, 1000)\n",
    "        self.thinking_engine = GPTConversEngine(\"gpt-3.5-turbo\", 0.5, 1000)\n",
    "\n",
    "    def research(self, message: AgentCommand):\n",
    "        try:\n",
    "            payload = message.payload\n",
    "            if message.payload_type != \"str\":\n",
    "                raise ValueError(f\"Expected payload_type to be 'str' but got {message.payload_type}\")\n",
    "            \n",
    "            if payload == \"\":\n",
    "                raise ValueError(\"Payload cannot be empty\")\n",
    "            \n",
    "            if not isinstance(payload, str):\n",
    "                raise ValueError(f\"Expected payload to be of type str but got {type(payload)}\")\n",
    "\n",
    "            research_results = self._research(payload)\n",
    "\n",
    "            response = AgentCommand(\n",
    "                sender=\"aaa\",\n",
    "                receiver=\"agent\",\n",
    "                command_type=AgentCommandType.SUBMIT,\n",
    "                task_name=\"imagine\",\n",
    "                payload_type = 'str',\n",
    "                payload=research_results \n",
    "            )\n",
    "            return response\n",
    "        except Exception as e:\n",
    "            print(f\"Error in imagine command: {e}\")\n",
    "            response = AgentCommand(\n",
    "                sender=self.name,\n",
    "                receiver=\"agent\",\n",
    "                command_type=AgentCommandType.ERROR,\n",
    "                task_name=\"imagine\",\n",
    "                payload_type = 'str',\n",
    "                payload=f\"505: Internal Server Error: {e}\",\n",
    "            )\n",
    "            return self.swarm_adapter.send_dm(response, message.sender)\n",
    "    \n",
    "    def _research(self, topic: str) -> str:\n",
    "        \"\"\"Does google search on a given topic and returns the results\n",
    "        \"\"\"\n",
    "        print(f\"Researching '{topic}'\")\n",
    "        queries = self._gen_querries(topic)\n",
    "        results = []\n",
    "        for query in queries:\n",
    "            results.append(self._google_search(query))\n",
    "        response = self._summarize(topic, results)\n",
    "        return response\n",
    "\n",
    "    def _google_search(self, query: str)-> str:\n",
    "        \"\"\"Does the search itself but provides very short answers!\n",
    "        \"\"\"\n",
    "        query = query.strip().replace(\"'\", \"\").replace('\"', \"\")\n",
    "        response = self.search_engine.call_model(query)\n",
    "        print(f\"For query: '{query}', got response: '{response}'\")\n",
    "        return response\n",
    "    \n",
    "    def _summarize(self, topic: str, results: list) -> str:\n",
    "        \"\"\"Summarizes the results into a single paragraph\n",
    "        \"\"\"\n",
    "        results_summarisation_prompt = (\n",
    "            \"----Results Summarisation Prompt----\\n\"\n",
    "            \"You will be presented with a global topic and a list of research results related to this topic. Your task is to distill this information into a single, concise paragraph. \"\n",
    "            \"The summarisation should capture the essence of the results and their relevance to the global topic. \"\n",
    "            \"Focus on highlighting key findings, unique insights, and essential takeaways that are relevant only to the global topic. \"\n",
    "            \"The summarisation should be comprehensive yet succinct, enabling anyone to grasp the major points quickly. \\n\\n\"\n",
    "            \"For example, if the global topic is 'Climate Change Impact on Agriculture' and the results include various studies, statistics, and expert opinions, weave them into a coherent, compact summary.\\n\"\n",
    "            \"--------\\n\"\n",
    "        )\n",
    "\n",
    "        results = \"\\n\".join(results)\n",
    "\n",
    "        conversation = [\n",
    "            {\"role\": \"system\", \"content\": results_summarisation_prompt},\n",
    "            {\"role\": \"user\", \"content\": f\"Topic: {topic}.\\n\\nResults:\\n{results}\"},\n",
    "        ]\n",
    "\n",
    "        response = self.thinking_engine.call_model(conversation)\n",
    "\n",
    "        print(f\"Summarized results: '{response}'\")\n",
    "        return response\n",
    "    \n",
    "    def _gen_querries(self, topic: str) -> list:\n",
    "        \"\"\"Breaks down the topic into a list of google search querries\n",
    "        \"\"\"\n",
    "        search_query_breakdown = (\n",
    "            \"----Search Query Breakdown----\\n\"\n",
    "            \"You're given a topic. Your task is to break this topic down into 5 distinct Google search queries that would help answer the posed question.\"\n",
    "            \"The search queries should be unique, focused, and specific. \"\n",
    "            \"You MUST include only the search queries in your output formatted as a list that is parsable by re.findall(r'\\[(.*?)\\]', response)!!\\n\\n\"\n",
    "            \"Example: \\n\"\n",
    "            \"Topic: 'Self-driving cars'\\n\"\n",
    "            \"Response: ['History of self-driving cars', 'Technology used in self-driving cars', 'Legal issues surrounding self-driving cars', 'Safety records of self-driving cars', 'Future prospects of self-driving cars']\\n\"\n",
    "            \"--------\\n\"\n",
    "        )\n",
    "        conversation = [\n",
    "            {\"role\": \"system\", \"content\": search_query_breakdown},\n",
    "            {\"role\": \"user\", \"content\": f\"Topic: {topic}\"},\n",
    "        ]\n",
    "\n",
    "        attempts = 0\n",
    "        while attempts < 3:\n",
    "            try:\n",
    "                response = self.thinking_engine.call_model(conversation)\n",
    "                print(f\"Generated querries: {response}\")\n",
    "                # parse the response into a list of querries\n",
    "                querries = re.findall(r\"\\[(.*?)\\]\", response)\n",
    "                querries = querries[0].split(\",\")\n",
    "                querries = [q.strip() for q in querries]\n",
    "                print(f\"Generated querries: {querries}\")\n",
    "                return querries[:5]\n",
    "            except Exception as e:\n",
    "                attempts += 1\n",
    "                print(f\"Error in _gen_querries: {e}\")\n",
    "                time.sleep(1)\n",
    "        \n",
    "        raise Exception(\"Failed to generate querries\")"
   ]
  },
  {
   "cell_type": "code",
   "execution_count": 19,
   "metadata": {},
   "outputs": [],
   "source": [
    "google_agent = GooglingAgent(\"google\", \"Googling agent\")"
   ]
  },
  {
   "cell_type": "code",
   "execution_count": 20,
   "metadata": {},
   "outputs": [],
   "source": [
    "request = AgentCommand(\n",
    "    sender=\"aaa\",\n",
    "    receiver=\"agent\",\n",
    "    command_type=AgentCommandType.SUBMIT,\n",
    "    task_name=\"imagine\",\n",
    "    payload_type = 'str',\n",
    "    payload=\"dalle 2 image generation prompt engineering best practices\" \n",
    ")"
   ]
  },
  {
   "cell_type": "code",
   "execution_count": 21,
   "metadata": {},
   "outputs": [
    {
     "name": "stdout",
     "output_type": "stream",
     "text": [
      "Researching 'dalle 2 image generation prompt engineering best practices'\n",
      "Generated querries: ['Best practices for engineering DALL-E 2 image generation prompts', 'How to optimize DALL-E 2 image generation prompts', 'Common mistakes to avoid when creating DALL-E 2 prompts', 'Examples of successful DALL-E 2 prompts', 'How to incorporate user feedback into DALL-E 2 prompts']\n",
      "Generated querries: [\"'Best practices for engineering DALL-E 2 image generation prompts'\", \"'How to optimize DALL-E 2 image generation prompts'\", \"'Common mistakes to avoid when creating DALL-E 2 prompts'\", \"'Examples of successful DALL-E 2 prompts'\", \"'How to incorporate user feedback into DALL-E 2 prompts'\"]\n",
      "For query: 'Best practices for engineering DALL-E 2 image generation prompts', got response: ' I need to find information on engineering DALL-E 2 image generation prompts\n",
      "Action: Google Search\n",
      "Action Input: \"Best practices for engineering DALL-E 2 image generation prompts\"\n",
      "As of November 2022, the best options are the “text-davinci-003” model for text generation, and the “code-davinci-002” model for code generation. 2. Put ... DALL-E 2 from OpenAI shows how impressive the creativity of AI can be - if ... is currently the best available AI system for image generation and editing. Sep 19, 2022 ... Similarly, prompts for DALL·E2 must stay under 400 characters [9]. ... Two tips for generating interesting images are:. Jan 17, 2023 ... There is of course no perfect way to engineer a prompt with DALL-E 2. The image generator largely resembles the creative process itself. Dalle-2 ai prompts: Longer, specific descriptions tend to work best ... for an AI art generator is a practice and skill referred to as “prompt engineering” ... Jul 14, 2022 ... OpenAI's text-to-image generator still struggles with text, ... Here's DALL-E 2's response to the prompt: “An overweight old dog looks ... Jun 2, 2022 ... I have a question, Does DALL-E 2 accept Animation TV Show ... \"Polarity\" Trying to use math in Bing image generator to view how space and ... Jul 1, 2022 ... A variation simply prompts DALL·E with an image, rather than written text. ... So let's go ahead and generate variations of this image… Midjourney is a text-to-image generation app similar to OpenAI's DALLE-2 and Stable ... A guide to writing text prompts for Midjourney , prompt engineering. Mar 6, 2023 ... Technology continues to prove that creativity truly knows no bounds. If you have used DALL-E 2 to generate images, you know what we are talking ...The best practices for engineering DALL-E 2 image generation prompts include using the “text-davinci-003” model for text generation, and the “code-davinci-002” model for code generation. Additionally, prompts should stay under 400 characters and longer, specific descriptions tend to work best. Finally, it is important to remember that prompt engineering is a practice and skill that needs to be learned and developed.'\n",
      "For query: 'How to optimize DALL-E 2 image generation prompts', got response: ' I should focus on finding ways to improve the neural network's performance\n",
      "Action: Google Search\n",
      "Action Input: \"Optimizing DALL-E 2 image generation prompts\"\n",
      "Optimize prompts for GPT-4, ChatGPT, StableLM, Claude, MidJourney, DALL-E, ... Create compelling Text and Image prompts today with our AI prompt generator. Mar 1, 2023 ... I want you to write me a list of 3 detailed prompts exactly about the idea written after IDEA. Follow the structure of the example prompts. This ... Nov 30, 2022 ... ChatGPT is a sibling model to InstructGPT, which is trained to follow an instruction in a prompt and provide a detailed response. Tips and tricks for improving image quality. ... Guy Parsons' DALL·E 2 Prompt Book for guidance on designing the best prompts. Feb 22, 2023 ... DALL-E2 Beta had over 1.5 million users creating more than 2 million images daily in 2022. Using prompts, these machine learning models are ... Mar 6, 2023 ... Technology continues to prove that creativity truly knows no bounds. If you have used DALL-E 2 to generate images, you know what we are talking ... 1 day ago ... We've rounded up a list of AI prompt optimization agencies and services ... and GPT-3 or text-to-image AI models like DALL-E2 and NightCafe, ... Nov 19, 2022 ... E 2 Prompt - \"A ninja monkey portrait\" Here are the AI generations. Image. 1. 4. Shubham Saboo · @Saboo_Shubham_. Optimized DALL.E 2 ... Dec 29, 2022 ... Generate, edit, and vary images, optimize image prompts, long term memory, and much more! Awesome as a pair programming buddy! I posted about a ... Apr 19, 2022 ... With only a short text prompt, DALL-E 2 can generate completely new images ... A birds-eye view of the DALL-E 2 image generation process ...To optimize DALL-E 2 image generation prompts, one should focus on creating compelling text and image prompts, following the structure of example prompts, optimizing image quality, using Guy Parsons' DALL·E 2 Prompt Book for guidance, varying images, optimizing image prompts, and using long-term memory.'\n",
      "For query: 'Common mistakes to avoid when creating DALL-E 2 prompts', got response: ' I should see what advice experts have given\n",
      "Action: Google Search\n",
      "Action Input: \"common mistakes to avoid when creating DALL-E 2 prompts\"\n",
      "Mar 6, 2023 ... Talk about emotions; 5. Describe the composition of the image; 6. Avoid complicated prompts. How does DALL-E 2 compare with Midjourney? May 1, 2022 ... [Tip: I find I get more reliably high-quality images from the prompt \"X, screenshots from the Miyazaki anime movie\" than just \"in the style of ... May 1, 2022 ... Nevertheless, for 5 out of the 14 prompts, at least one of the ten images ... The DALL-E 2 system, created by OpenAI, generates original ... Dec 5, 2022 ... Here is what DALL-E 2 produced when given the prompt, ... the best artificial intelligence chatbot ever released to the general public. Jun 16, 2022 ... DALL·E 2 is the newest AI model by OpenAI. If you've seen some of its creations and think they're amazing, keep reading to understand why ... 5 days ago ... You go to the website, create an account and you can generate images of anything you can imagine by typing out a text prompt. There are a few ... This guide covers general prompt design best practices and examples. ... To create a text classifier with the API, we provide a description of the task and ... Aug 8, 2022 ... For Pete's sake, make these prompt errors non-suspendable if you can't provide a moderation endpoint that helps filter out YOUR OWN OUTPUT on ... Jan 11, 2023 ... Examples of great prompts and how to avoid common mistakes ... render of a small pink balloon dog in a light pink room” Created with DALL.E. Jul 20, 2022 ... So I just tried to use Dall-E 2 with the following prompt: ・“anime ... I do to avoid this problem? 5 Likes. Ameseth July 20, 2022, 1:30pm 2.Common mistakes to avoid when creating DALL-E 2 prompts include: talking about emotions, describing the composition of the image, avoiding complicated prompts, using specific prompts for more reliable images, providing a description of the task when creating a text classifier, making errors non-suspendable, and providing specific prompts for anime-style images.'\n",
      "For query: 'Examples of successful DALL-E 2 prompts', got response: ' I should look for examples of successful DALL-E 2 prompts\n",
      "Action: Google Search\n",
      "Action Input: \"DALL-E 2 successful prompts\"\n",
      "Aug 16, 2022 ... A curated collection of images I made with DALL-E 2, together with advice on writing the best prompts. Mar 6, 2023 ... DALL-E 2 prompt – 6 tips to get the best results · 1. Get specific about the style · 2. Talk about every little element in your image · 3. Don't ... 5 days ago ... Write a prompt (this time it can be more general because DALL-E 2 will try to match the style of the existing image – in the example below, I ... Jun 1, 2022 ... DALL·E's AI generated photos and images can, in turn depict other creative media, making it a perfect co-creation tool for artists + ... Guy Parsons' DALL·E 2 Prompt Book for guidance on designing the best prompts. · Joining our Discord server and engaging with the community in channels such as # ... Aug 2, 2022 ... Midjourney and DALL-E are AI systems that generate realistic visuals and ... 2 medieval warriors ::0.4 travelling on a cliff to a background ... Search the best DALL-E prompts and get millions of ideas for your next prompt engineering session. Showing only good prompts for DALL-E, ranked by users' ... How to give clear and effective instructions to GPT-3 and Codex. ... 2. Put instructions at the beginning of the prompt and use ### or \"\"\" to separate the ... May 3, 2022 ... Share successful ways the AI was able to generate your image in the most accurate way possible. This could mean certain key phrases you ... Feb 6, 2023 ... Text prompts are what drive AI image generators. DALL-E can only do so much; you have to tell it what to do. Newcomers are often light on the ...Successful DALL-E 2 prompts include getting specific about the style, talking about every little element in the image, using Guy Parsons' DALL·E 2 Prompt Book for guidance on designing the best prompts, giving clear and effective instructions to GPT-3 and Codex, sharing successful ways the AI was able to generate the image, and providing text prompts that tell DALL-E what to do.'\n",
      "For query: 'How to incorporate user feedback into DALL-E 2 prompts', got response: ' I need to find out how user feedback is used in DALL-E 2\n",
      "Action: Google Search\n",
      "Action Input: \"incorporating user feedback into DALL-E 2\"\n",
      "Nov 30, 2022 ... The dialogue format makes it possible for ChatGPT to answer ... We are excited to introduce ChatGPT to get users' feedback and learn about ... Oct 12, 2022 ... Microsoft is integrating OpenAI's DALL-E 2 image-generating system into ... In September, OpenAI said that more than 1.5 million users were ... Mar 1, 2023 ... Developers can now integrate ChatGPT and Whisper models into their apps and ... we're now passing through those savings to API users. Apr 7, 2023 ... By incorporating multi-modal experiences into your application, ... We then display the image from DALL-E 2 as a response to the users input ... Mar 13, 2023 ... Safety & alignment. Training with human feedback. We incorporated more human feedback, including feedback submitted by ChatGPT users, to improve ... Jan 4, 2023 ... The Redmond-based tech giant is adding an AI text-to-image model to Bing powered by OpenAI's DALL-E 2; invested $1 billion in OpenAI in 2019; ... Mar 14, 2023 ... These Terms and any policies incorporated in these Terms contain the entire agreement between you and OpenAI regarding the use of the Services ... 4 days ago ... DALL·E 2 and DALL·E Mini are notable developments in AI painting.1 ... By actively engaging with users and incorporating their feedback, ... Nov 4, 2022 ... AI art generators have been in the news a lot this year, be it for their amazing advances or questionable uses. OpenAI's Dall-E 2 is one of ... 6 days ago ... An AI system includes not only the technology, but also the people who use it, the people who are affected by it, and the environment in ...User feedback is used in DALL-E 2 to improve the AI text-to-image model, to train with human feedback, and to actively engage with users and incorporate their feedback. Additionally, user feedback is used to improve safety and alignment, as well as to pass through savings to API users.'\n",
      "Summarized results: 'DALL-E 2 image generation prompts can be optimized by using specific models for text and code generation. Prompts should stay under 400 characters, and longer, specific descriptions tend to work best. Prompt engineering is a skill that needs to be learned and developed. To improve the neural network's performance, one should focus on creating compelling text and image prompts, optimizing image quality, and using long-term memory. Mistakes to avoid when creating DALL-E 2 prompts include avoiding complicated prompts, using specific prompts for more reliable images, and providing clear instructions. Successful DALL-E 2 prompts include getting specific about the style, talking about every little element in the image, and sharing successful ways the AI was able to generate the image. User feedback is used to improve the AI text-to-image model, train with human feedback, improve safety and alignment, and incorporate multi-modal experiences into applications.'\n"
     ]
    },
    {
     "data": {
      "text/plain": [
       "AgentCommand(sender='aaa', receiver='agent', command_type=<AgentCommandType.SUBMIT: 'submit'>, task_name='imagine', payload_type='str', payload=\"DALL-E 2 image generation prompts can be optimized by using specific models for text and code generation. Prompts should stay under 400 characters, and longer, specific descriptions tend to work best. Prompt engineering is a skill that needs to be learned and developed. To improve the neural network's performance, one should focus on creating compelling text and image prompts, optimizing image quality, and using long-term memory. Mistakes to avoid when creating DALL-E 2 prompts include avoiding complicated prompts, using specific prompts for more reliable images, and providing clear instructions. Successful DALL-E 2 prompts include getting specific about the style, talking about every little element in the image, and sharing successful ways the AI was able to generate the image. User feedback is used to improve the AI text-to-image model, train with human feedback, improve safety and alignment, and incorporate multi-modal experiences into applications.\")"
      ]
     },
     "execution_count": 21,
     "metadata": {},
     "output_type": "execute_result"
    }
   ],
   "source": [
    "google_agent.research(request)"
   ]
  },
  {
   "cell_type": "code",
   "execution_count": null,
   "metadata": {},
   "outputs": [],
   "source": []
  }
 ],
 "metadata": {
  "kernelspec": {
   "display_name": ".venv_osnap",
   "language": "python",
   "name": "python3"
  },
  "language_info": {
   "codemirror_mode": {
    "name": "ipython",
    "version": 3
   },
   "file_extension": ".py",
   "mimetype": "text/x-python",
   "name": "python",
   "nbconvert_exporter": "python",
   "pygments_lexer": "ipython3",
   "version": "3.10.6"
  },
  "orig_nbformat": 4
 },
 "nbformat": 4,
 "nbformat_minor": 2
}
