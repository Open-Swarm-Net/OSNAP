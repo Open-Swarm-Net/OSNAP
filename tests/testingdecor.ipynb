{
 "cells": [
  {
   "cell_type": "code",
   "execution_count": 4,
   "metadata": {},
   "outputs": [
    {
     "ename": "TypeError",
     "evalue": "BaseClass.command() missing 1 required positional argument: 'name'",
     "output_type": "error",
     "traceback": [
      "\u001b[1;31m---------------------------------------------------------------------------\u001b[0m",
      "\u001b[1;31mTypeError\u001b[0m                                 Traceback (most recent call last)",
      "Cell \u001b[1;32mIn[4], line 3\u001b[0m\n\u001b[0;32m      1\u001b[0m \u001b[39mfrom\u001b[39;00m \u001b[39mabc\u001b[39;00m \u001b[39mimport\u001b[39;00m ABC, ABCMeta, abstractmethod\n\u001b[1;32m----> 3\u001b[0m \u001b[39mclass\u001b[39;00m \u001b[39mBaseClass\u001b[39;00m():\n\u001b[0;32m      4\u001b[0m     \u001b[39mdef\u001b[39;00m \u001b[39m__init__\u001b[39m(\u001b[39mself\u001b[39m):\n\u001b[0;32m      5\u001b[0m         \u001b[39mpass\u001b[39;00m\n",
      "Cell \u001b[1;32mIn[4], line 13\u001b[0m, in \u001b[0;36mBaseClass\u001b[1;34m()\u001b[0m\n\u001b[0;32m     10\u001b[0m         \u001b[39mreturn\u001b[39;00m func\n\u001b[0;32m     11\u001b[0m     \u001b[39mreturn\u001b[39;00m decorator\n\u001b[1;32m---> 13\u001b[0m \u001b[39m@command\u001b[39m(\u001b[39m\"\u001b[39;49m\u001b[39mon_ready\u001b[39;49m\u001b[39m\"\u001b[39;49m)\n\u001b[0;32m     14\u001b[0m \u001b[39mdef\u001b[39;00m \u001b[39mon_ready\u001b[39m(\u001b[39mself\u001b[39m, data: \u001b[39mstr\u001b[39m):\n\u001b[0;32m     15\u001b[0m     \u001b[39mprint\u001b[39m(\u001b[39m\"\u001b[39m\u001b[39mon_ready called\u001b[39m\u001b[39m\"\u001b[39m)\n\u001b[0;32m     17\u001b[0m \u001b[39mdef\u001b[39;00m \u001b[39mtest_print\u001b[39m(\u001b[39mself\u001b[39m):\n",
      "\u001b[1;31mTypeError\u001b[0m: BaseClass.command() missing 1 required positional argument: 'name'"
     ]
    }
   ],
   "source": [
    "from abc import ABC\n",
    "\n",
    "class BaseClass():\n",
    "    def __init__(self):\n",
    "        pass\n",
    "    \n",
    "    @classmethod\n",
    "    def command():\n",
    "        def decorator(func):\n",
    "            self.command_map[name] = func\n",
    "            return func\n",
    "        return decorator\n",
    "    \n",
    "    @command\n",
    "    def on_ready(self, data: str):\n",
    "        print(\"on_ready called\")\n",
    "\n",
    "    def test_print(self):\n",
    "        print(self.command_map)\n",
    "    \n",
    "class DerivedClass(BaseClass):\n",
    "    def __init__(self):\n",
    "        super().__init__()\n",
    "    \n",
    "    @command(\"custom_comm\")\n",
    "    def custom_comm(self, data: str):\n",
    "        print(\"on_ready called\")\n",
    "\n",
    "class DerivedClass2(BaseClass):\n",
    "    def __init__(self):\n",
    "        super().__init__()\n",
    "\n",
    "    @command(\"custom_comm2\")\n",
    "    def custom_comm2(self, data: str):\n",
    "        print(\"on_ready called\")"
   ]
  },
  {
   "cell_type": "code",
   "execution_count": 3,
   "metadata": {},
   "outputs": [
    {
     "name": "stdout",
     "output_type": "stream",
     "text": [
      "{}\n",
      "{}\n"
     ]
    }
   ],
   "source": [
    "aaa = DerivedClass()\n",
    "aaa.test_print()\n",
    "\n",
    "bbb = DerivedClass2()\n",
    "bbb.test_print()"
   ]
  },
  {
   "cell_type": "code",
   "execution_count": null,
   "metadata": {},
   "outputs": [],
   "source": []
  }
 ],
 "metadata": {
  "kernelspec": {
   "display_name": ".venv_osnap",
   "language": "python",
   "name": "python3"
  },
  "language_info": {
   "codemirror_mode": {
    "name": "ipython",
    "version": 3
   },
   "file_extension": ".py",
   "mimetype": "text/x-python",
   "name": "python",
   "nbconvert_exporter": "python",
   "pygments_lexer": "ipython3",
   "version": "3.10.6"
  },
  "orig_nbformat": 4
 },
 "nbformat": 4,
 "nbformat_minor": 2
}
